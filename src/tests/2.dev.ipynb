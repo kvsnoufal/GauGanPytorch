{
 "cells": [
  {
   "cell_type": "code",
   "execution_count": 2,
   "metadata": {},
   "outputs": [
    {
     "data": {
      "text/plain": [
       "['facades_data']"
      ]
     },
     "execution_count": 2,
     "metadata": {},
     "output_type": "execute_result"
    }
   ],
   "source": [
    "import os\n",
    "from glob import glob\n",
    "os.listdir(\"../data/facades_data\")"
   ]
  },
  {
   "cell_type": "code",
   "execution_count": 3,
   "metadata": {},
   "outputs": [
    {
     "data": {
      "text/plain": [
       "(['../data/facades_data/facades_data\\\\cmp_b0001.jpg',\n",
       "  '../data/facades_data/facades_data\\\\cmp_b0002.jpg'],\n",
       " ['../data/facades_data/facades_data\\\\cmp_b0001.bmp',\n",
       "  '../data/facades_data/facades_data\\\\cmp_b0002.bmp'],\n",
       " 'cmp_b0001.jpg')"
      ]
     },
     "execution_count": 3,
     "metadata": {},
     "output_type": "execute_result"
    }
   ],
   "source": [
    "img_files = glob(\"../data/facades_data/facades_data/*.jpg\")\n",
    "map_files = glob(\"../data/facades_data/facades_data/*.bmp\")\n",
    "img_files[:2],map_files[:2],os.path.basename(img_files[0])"
   ]
  },
  {
   "cell_type": "code",
   "execution_count": null,
   "metadata": {},
   "outputs": [],
   "source": []
  },
  {
   "cell_type": "code",
   "execution_count": 7,
   "metadata": {},
   "outputs": [
    {
     "data": {
      "text/plain": [
       "(565, 300)"
      ]
     },
     "execution_count": 7,
     "metadata": {},
     "output_type": "execute_result"
    }
   ],
   "source": [
    "from PIL import Image\n",
    "import numpy as np\n",
    "import torchvision.transforms as transforms\n",
    "label = Image.open(map_files[0]) \n",
    "label = np.array(label)\n",
    "label.shape"
   ]
  },
  {
   "cell_type": "code",
   "execution_count": 8,
   "metadata": {},
   "outputs": [
    {
     "data": {
      "text/plain": [
       "array([ 0,  1,  2,  3,  4,  5,  6,  7,  8,  9, 11], dtype=uint8)"
      ]
     },
     "execution_count": 8,
     "metadata": {},
     "output_type": "execute_result"
    }
   ],
   "source": [
    "np.unique(label.flatten())"
   ]
  },
  {
   "cell_type": "code",
   "execution_count": 9,
   "metadata": {},
   "outputs": [
    {
     "data": {
      "text/plain": [
       "torch.Size([565, 300, 12])"
      ]
     },
     "execution_count": 9,
     "metadata": {},
     "output_type": "execute_result"
    }
   ],
   "source": [
    "import torch.nn.functional as F\n",
    "import torch\n",
    "label_ohe = torch.tensor(label).long() \n",
    "label_ohe = F.one_hot(label_ohe,num_classes=12)\n",
    "\n",
    "label_ohe.shape"
   ]
  },
  {
   "cell_type": "code",
   "execution_count": 26,
   "metadata": {},
   "outputs": [
    {
     "name": "stdout",
     "output_type": "stream",
     "text": [
      "(300, 565)\n"
     ]
    },
    {
     "data": {
      "text/plain": [
       "torch.Size([256, 256])"
      ]
     },
     "execution_count": 26,
     "metadata": {},
     "output_type": "execute_result"
    }
   ],
   "source": [
    "map_transforms = transforms.Compose([\n",
    "            transforms.Resize((256,256)),\n",
    "            transforms.ToTensor(),\n",
    "        ])\n",
    "label = Image.open(map_files[0]) \n",
    "print(label.size)        \n",
    "label_tr = map_transforms(label).squeeze(0)     \n",
    "label_tr.shape"
   ]
  },
  {
   "cell_type": "code",
   "execution_count": 27,
   "metadata": {},
   "outputs": [],
   "source": [
    "  \n",
    "label_tr = (label_tr*255).long()"
   ]
  },
  {
   "cell_type": "code",
   "execution_count": 32,
   "metadata": {},
   "outputs": [
    {
     "data": {
      "text/plain": [
       "torch.Size([256, 256, 12])"
      ]
     },
     "execution_count": 32,
     "metadata": {},
     "output_type": "execute_result"
    }
   ],
   "source": [
    "label_ohe = F.one_hot(label_tr,num_classes=12)\n",
    "label_ohe.shape"
   ]
  },
  {
   "cell_type": "code",
   "execution_count": 33,
   "metadata": {},
   "outputs": [
    {
     "data": {
      "text/plain": [
       "(tensor(1), tensor(0))"
      ]
     },
     "execution_count": 33,
     "metadata": {},
     "output_type": "execute_result"
    }
   ],
   "source": [
    "torch.max(label_ohe),torch.min(label_ohe)"
   ]
  },
  {
   "cell_type": "code",
   "execution_count": 18,
   "metadata": {},
   "outputs": [
    {
     "data": {
      "text/plain": [
       "torch.Size([12, 565, 300])"
      ]
     },
     "execution_count": 18,
     "metadata": {},
     "output_type": "execute_result"
    }
   ],
   "source": [
    "label_ohe.permute(2,0,1).shape"
   ]
  },
  {
   "cell_type": "code",
   "execution_count": 30,
   "metadata": {},
   "outputs": [
    {
     "data": {
      "text/plain": [
       "torch.Size([3, 256, 256])"
      ]
     },
     "execution_count": 30,
     "metadata": {},
     "output_type": "execute_result"
    }
   ],
   "source": [
    "img_transforms = transforms.Compose([\n",
    "            transforms.Resize((256,256)),\n",
    "            transforms.ToTensor(),\n",
    "            transforms.Normalize((0.5, 0.5, 0.5), (0.5, 0.5, 0.5))\n",
    "        ])\n",
    "img = Image.open(img_files[0]).convert(\"RGB\")\n",
    "img = img_transforms(img)\n",
    "img.shape"
   ]
  },
  {
   "cell_type": "code",
   "execution_count": 35,
   "metadata": {},
   "outputs": [
    {
     "name": "stdout",
     "output_type": "stream",
     "text": [
      "torch.Size([256, 256])\n"
     ]
    },
    {
     "data": {
      "text/plain": [
       "torch.Size([12, 256, 256])"
      ]
     },
     "execution_count": 35,
     "metadata": {},
     "output_type": "execute_result"
    }
   ],
   "source": [
    "map_transforms = transforms.Compose([\n",
    "            transforms.Resize((256,256)),\n",
    "            transforms.ToTensor(),\n",
    "        ])\n",
    "label = Image.open(img_files[0].replace(\"jpg\",\"bmp\"))\n",
    "        \n",
    "label = map_transforms(label).long().squeeze(0)\n",
    "print(label.shape)\n",
    "label_ohe = F.one_hot(label,num_classes=12).permute(2,0,1)\n",
    "label_ohe.shape"
   ]
  },
  {
   "cell_type": "code",
   "execution_count": 62,
   "metadata": {},
   "outputs": [],
   "source": [
    "class Config():\n",
    "    IMAGE_HEIGHT = 256\n",
    "    IMAGE_WIDTH = 256\n",
    "    BATCH_SIZE = 4\n",
    "    LATENT_DIM = 256\n",
    "    DEVICE = \"cpu\"\n",
    "    NUM_CLASSES = 12\n",
    "cfg = Config()\n",
    "class GauGanDataset:\n",
    "    def __init__(self,img_paths):\n",
    "        self.img_paths = img_paths\n",
    "        self.img_transforms = transforms.Compose([\n",
    "            transforms.Resize((cfg.IMAGE_HEIGHT,cfg.IMAGE_WIDTH)),\n",
    "            transforms.ToTensor(),\n",
    "            transforms.Normalize((0.5, 0.5, 0.5), (0.5, 0.5, 0.5))\n",
    "        ])\n",
    "        self.map_transforms = transforms.Compose([\n",
    "            transforms.Resize((cfg.IMAGE_HEIGHT,cfg.IMAGE_WIDTH)),\n",
    "            transforms.ToTensor(),\n",
    "        ])\n",
    "    def __len__(self):\n",
    "        return len(self.img_paths)\n",
    "    def __getitem__(self,index):\n",
    "        image = Image.open(self.img_paths[index]).convert(\"RGB\")\n",
    "        label = Image.open(self.img_paths[index].replace(\"jpg\",\"bmp\"))\n",
    "        \n",
    "        image = self.img_transforms(image)\n",
    "        label = self.map_transforms(label).long().squeeze(0)\n",
    "        label_ohe = F.one_hot(label,num_classes=cfg.NUM_CLASSES).permute(2,0,1)\n",
    "        # print(\"here\",index,image.shape,label_ohe.shape)\n",
    "        return {\n",
    "            \"image\":image,\n",
    "            \"segmentation_map\":label_ohe\n",
    "        }\n",
    "        "
   ]
  },
  {
   "cell_type": "code",
   "execution_count": 65,
   "metadata": {},
   "outputs": [
    {
     "name": "stdout",
     "output_type": "stream",
     "text": [
      "torch.Size([4, 3, 256, 256])\n"
     ]
    }
   ],
   "source": [
    "train_dataset=GauGanDataset(img_files)\n",
    "train_loader=torch.utils.data.DataLoader(\n",
    "        train_dataset,\n",
    "        batch_size=4,\n",
    "        shuffle=True,\n",
    "        num_workers=0\n",
    "    )\n",
    "for batch in train_loader:\n",
    "    print(batch[\"image\"].shape)\n",
    "    break\n"
   ]
  },
  {
   "cell_type": "code",
   "execution_count": 52,
   "metadata": {},
   "outputs": [
    {
     "data": {
      "text/plain": [
       "str"
      ]
     },
     "execution_count": 52,
     "metadata": {},
     "output_type": "execute_result"
    }
   ],
   "source": []
  },
  {
   "cell_type": "code",
   "execution_count": 45,
   "metadata": {},
   "outputs": [
    {
     "ename": "TypeError",
     "evalue": "string indices must be integers",
     "output_type": "error",
     "traceback": [
      "\u001b[1;31m---------------------------------------------------------------------------\u001b[0m",
      "\u001b[1;31mTypeError\u001b[0m                                 Traceback (most recent call last)",
      "\u001b[1;32mc:\\Users\\noufal.samsudin\\Documents\\vscode\\gaugan\\dev\\2.dev.ipynb Cell 13'\u001b[0m in \u001b[0;36m<cell line: 1>\u001b[1;34m()\u001b[0m\n\u001b[0;32m      <a href='vscode-notebook-cell:/c%3A/Users/noufal.samsudin/Documents/vscode/gaugan/dev/2.dev.ipynb#ch0000012?line=0'>1</a>\u001b[0m \u001b[39mfor\u001b[39;00m indx,data \u001b[39min\u001b[39;00m train_loader:\n\u001b[1;32m----> <a href='vscode-notebook-cell:/c%3A/Users/noufal.samsudin/Documents/vscode/gaugan/dev/2.dev.ipynb#ch0000012?line=1'>2</a>\u001b[0m     \u001b[39mprint\u001b[39m(data[\u001b[39m\"\u001b[39;49m\u001b[39msegmentation_map\u001b[39;49m\u001b[39m\"\u001b[39;49m])\n\u001b[0;32m      <a href='vscode-notebook-cell:/c%3A/Users/noufal.samsudin/Documents/vscode/gaugan/dev/2.dev.ipynb#ch0000012?line=2'>3</a>\u001b[0m     \u001b[39mbreak\u001b[39;00m\n",
      "\u001b[1;31mTypeError\u001b[0m: string indices must be integers"
     ]
    }
   ],
   "source": []
  },
  {
   "cell_type": "code",
   "execution_count": null,
   "metadata": {},
   "outputs": [],
   "source": []
  }
 ],
 "metadata": {
  "interpreter": {
   "hash": "fb2a37f0bf35d3da73736950605ba39c9d88bf7386ed6e66874282d71ea1792e"
  },
  "kernelspec": {
   "display_name": "Python 3.9.7 ('ptorchenv')",
   "language": "python",
   "name": "python3"
  },
  "language_info": {
   "codemirror_mode": {
    "name": "ipython",
    "version": 3
   },
   "file_extension": ".py",
   "mimetype": "text/x-python",
   "name": "python",
   "nbconvert_exporter": "python",
   "pygments_lexer": "ipython3",
   "version": "3.9.7"
  },
  "orig_nbformat": 4
 },
 "nbformat": 4,
 "nbformat_minor": 2
}
